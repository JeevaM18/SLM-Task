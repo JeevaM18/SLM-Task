{
  "cells": [
    {
      "cell_type": "code",
      "execution_count": 1,
      "metadata": {
        "colab": {
          "base_uri": "https://localhost:8080/",
          "height": 495
        },
        "id": "8LMEkALCMGjh",
        "outputId": "62bcec60-b799-4e97-bf39-dbeeda2e8dea"
      },
      "outputs": [
        {
          "name": "stderr",
          "output_type": "stream",
          "text": [
            "C:\\Users\\Jeeva M\\AppData\\Roaming\\Python\\Python313\\site-packages\\tqdm\\auto.py:21: TqdmWarning: IProgress not found. Please update jupyter and ipywidgets. See https://ipywidgets.readthedocs.io/en/stable/user_install.html\n",
            "  from .autonotebook import tqdm as notebook_tqdm\n"
          ]
        }
      ],
      "source": [
        "from transformers import AutoTokenizer, AutoModelForSequenceClassification\n",
        "import torch\n",
        "\n",
        "model = AutoModelForSequenceClassification.from_pretrained(\"../models/trained_model\")\n",
        "tokenizer = AutoTokenizer.from_pretrained(\"../models/tokenizer\")\n"
      ]
    },
    {
      "cell_type": "code",
      "execution_count": 2,
      "metadata": {},
      "outputs": [],
      "source": [
        "import pandas as pd\n",
        "\n",
        "df_test = pd.read_csv(\"../data/test.csv\")\n",
        "texts = df_test[\"text\"].tolist()\n",
        "true_labels = df_test[\"label\"].tolist()\n"
      ]
    },
    {
      "cell_type": "code",
      "execution_count": 3,
      "metadata": {},
      "outputs": [],
      "source": [
        "from torch.nn.functional import softmax\n",
        "\n",
        "model.eval()\n",
        "pred_labels = []\n",
        "\n",
        "for text in texts:\n",
        "    inputs = tokenizer(text, return_tensors=\"pt\", truncation=True, padding=True)\n",
        "    with torch.no_grad():\n",
        "        outputs = model(**inputs)\n",
        "        probs = softmax(outputs.logits, dim=1)\n",
        "        pred_label = torch.argmax(probs, dim=1).item()\n",
        "        pred_labels.append(pred_label)\n"
      ]
    },
    {
      "cell_type": "code",
      "execution_count": 5,
      "metadata": {},
      "outputs": [
        {
          "name": "stdout",
          "output_type": "stream",
          "text": [
            "              precision    recall  f1-score   support\n",
            "\n",
            "           0      0.683     0.573     0.623       150\n",
            "           1      0.524     0.667     0.587       150\n",
            "           2      0.639     0.567     0.601       150\n",
            "\n",
            "    accuracy                          0.602       450\n",
            "   macro avg      0.615     0.602     0.603       450\n",
            "weighted avg      0.615     0.602     0.603       450\n",
            "\n"
          ]
        },
        {
          "data": {
            "image/png": "[encoded data removed]",
            "text/plain": [
              "<Figure size 640x480 with 2 Axes>"
            ]
          },
          "metadata": {},
          "output_type": "display_data"
        }
      ],
      "source": [
        "from sklearn.metrics import classification_report, confusion_matrix\n",
        "import seaborn as sns\n",
        "import matplotlib.pyplot as plt\n",
        "\n",
        "print(classification_report(true_labels, pred_labels, digits=3))\n",
        "\n",
        "cm = confusion_matrix(true_labels, pred_labels)\n",
        "sns.heatmap(cm, annot=True, fmt=\"d\", cmap=\"Blues\")\n",
        "plt.xlabel(\"Predicted\")\n",
        "plt.ylabel(\"Actual\")\n",
        "plt.title(\"Confusion Matrix\")\n",
        "plt.savefig(\"../reports/confusion_matrix.png\")\n",
        "plt.show()\n"
      ]
    },
    {
      "cell_type": "code",
      "execution_count": 6,
      "metadata": {},
      "outputs": [],
      "source": [
        "from sklearn.metrics import f1_score, precision_score, recall_score, accuracy_score\n",
        "import json\n",
        "\n",
        "metrics = {\n",
        "    \"accuracy\": accuracy_score(true_labels, pred_labels),\n",
        "    \"f1\": f1_score(true_labels, pred_labels, average=\"weighted\"),\n",
        "    \"precision\": precision_score(true_labels, pred_labels, average=\"weighted\"),\n",
        "    \"recall\": recall_score(true_labels, pred_labels, average=\"weighted\")\n",
        "}\n",
        "\n",
        "with open(\"../reports/evaluation_metrics.json\", \"w\") as f:\n",
        "    json.dump(metrics, f, indent=4)\n"
      ]
    },
    {
      "cell_type": "code",
      "execution_count": 7,
      "metadata": {},
      "outputs": [
        {
          "data": {
            "text/html": [
              "<div>\n",
              "<style scoped>\n",
              "    .dataframe tbody tr th:only-of-type {\n",
              "        vertical-align: middle;\n",
              "    }\n",
              "\n",
              "    .dataframe tbody tr th {\n",
              "        vertical-align: top;\n",
              "    }\n",
              "\n",
              "    .dataframe thead th {\n",
              "        text-align: right;\n",
              "    }\n",
              "</style>\n",
              "<table border=\"1\" class=\"dataframe\">\n",
              "  <thead>\n",
              "    <tr style=\"text-align: right;\">\n",
              "      <th></th>\n",
              "      <th>text</th>\n",
              "      <th>label</th>\n",
              "      <th>language</th>\n",
              "      <th>length</th>\n",
              "      <th>predicted</th>\n",
              "    </tr>\n",
              "  </thead>\n",
              "  <tbody>\n",
              "    <tr>\n",
              "      <th>3</th>\n",
              "      <td>Blow to the Lions...Joel Patfull's out for the...</td>\n",
              "      <td>2</td>\n",
              "      <td>en</td>\n",
              "      <td>22</td>\n",
              "      <td>1</td>\n",
              "    </tr>\n",
              "    <tr>\n",
              "      <th>4</th>\n",
              "      <td>NUNCA dejen el Snapchat abierto en el celular ...</td>\n",
              "      <td>2</td>\n",
              "      <td>es</td>\n",
              "      <td>17</td>\n",
              "      <td>1</td>\n",
              "    </tr>\n",
              "    <tr>\n",
              "      <th>5</th>\n",
              "      <td>Mi hermana y mi mamá hablando con sus personas...</td>\n",
              "      <td>2</td>\n",
              "      <td>es</td>\n",
              "      <td>22</td>\n",
              "      <td>1</td>\n",
              "    </tr>\n",
              "    <tr>\n",
              "      <th>7</th>\n",
              "      <td>@user @user ya lo sé, pobre Uno  Te acompaño e...</td>\n",
              "      <td>2</td>\n",
              "      <td>es</td>\n",
              "      <td>12</td>\n",
              "      <td>1</td>\n",
              "    </tr>\n",
              "    <tr>\n",
              "      <th>8</th>\n",
              "      <td>Haufenweise meiner Apps bemängeln fehlende Kom...</td>\n",
              "      <td>1</td>\n",
              "      <td>de</td>\n",
              "      <td>11</td>\n",
              "      <td>2</td>\n",
              "    </tr>\n",
              "    <tr>\n",
              "      <th>10</th>\n",
              "      <td>Soy una atrevida ay  todos me lo dicen</td>\n",
              "      <td>1</td>\n",
              "      <td>es</td>\n",
              "      <td>8</td>\n",
              "      <td>2</td>\n",
              "    </tr>\n",
              "    <tr>\n",
              "      <th>11</th>\n",
              "      <td>@user ily</td>\n",
              "      <td>1</td>\n",
              "      <td>de</td>\n",
              "      <td>2</td>\n",
              "      <td>0</td>\n",
              "    </tr>\n",
              "    <tr>\n",
              "      <th>16</th>\n",
              "      <td>going Hilton hotel on Thursday for dinner #can...</td>\n",
              "      <td>0</td>\n",
              "      <td>en</td>\n",
              "      <td>8</td>\n",
              "      <td>1</td>\n",
              "    </tr>\n",
              "    <tr>\n",
              "      <th>17</th>\n",
              "      <td>90% para designar a quienes somos muy aficiona...</td>\n",
              "      <td>2</td>\n",
              "      <td>es</td>\n",
              "      <td>24</td>\n",
              "      <td>0</td>\n",
              "    </tr>\n",
              "    <tr>\n",
              "      <th>19</th>\n",
              "      <td>Bueeeeno... no me siento bien. Gracias playlis...</td>\n",
              "      <td>2</td>\n",
              "      <td>es</td>\n",
              "      <td>10</td>\n",
              "      <td>0</td>\n",
              "    </tr>\n",
              "  </tbody>\n",
              "</table>\n",
              "</div>"
            ],
            "text/plain": [
              "                                                 text  label language  length  \\\n",
              "3   Blow to the Lions...Joel Patfull's out for the...      2       en      22   \n",
              "4   NUNCA dejen el Snapchat abierto en el celular ...      2       es      17   \n",
              "5   Mi hermana y mi mamá hablando con sus personas...      2       es      22   \n",
              "7   @user @user ya lo sé, pobre Uno  Te acompaño e...      2       es      12   \n",
              "8   Haufenweise meiner Apps bemängeln fehlende Kom...      1       de      11   \n",
              "10             Soy una atrevida ay  todos me lo dicen      1       es       8   \n",
              "11                                          @user ily      1       de       2   \n",
              "16  going Hilton hotel on Thursday for dinner #can...      0       en       8   \n",
              "17  90% para designar a quienes somos muy aficiona...      2       es      24   \n",
              "19  Bueeeeno... no me siento bien. Gracias playlis...      2       es      10   \n",
              "\n",
              "    predicted  \n",
              "3           1  \n",
              "4           1  \n",
              "5           1  \n",
              "7           1  \n",
              "8           2  \n",
              "10          2  \n",
              "11          0  \n",
              "16          1  \n",
              "17          0  \n",
              "19          0  "
            ]
          },
          "execution_count": 7,
          "metadata": {},
          "output_type": "execute_result"
        }
      ],
      "source": [
        "df_test[\"predicted\"] = pred_labels\n",
        "wrong_preds = df_test[df_test[\"label\"] != df_test[\"predicted\"]]\n",
        "wrong_preds.head(10)\n"
      ]
    }
  ],
  "metadata": {
    "colab": {
      "provenance": []
    },
    "kernelspec": {
      "display_name": "Python 3",
      "name": "python3"
    },
    "language_info": {
      "codemirror_mode": {
        "name": "ipython",
        "version": 3
      },
      "file_extension": ".py",
      "mimetype": "text/x-python",
      "name": "python",
      "nbconvert_exporter": "python",
      "pygments_lexer": "ipython3",
      "version": "3.13.0"
    }
  },
  "nbformat": 4,
  "nbformat_minor": 0
}
